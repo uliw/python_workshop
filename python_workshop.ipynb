{
 "cells": [
  {
   "cell_type": "markdown",
   "metadata": {},
   "source": [
    "AGESS Python Workshop July 16^{th} 2024\n",
    "=======================================\n",
    "\n",
    "**Author:** Ulrich G. Wortmann\n",
    "\n"
   ]
  },
  {
   "cell_type": "markdown",
   "metadata": {},
   "source": [
    "## This is a Jupyter Notebook - Welcome!\n",
    "\n"
   ]
  },
  {
   "cell_type": "markdown",
   "metadata": {},
   "source": [
    "Jupyter Notebooks have three types of areas: \n",
    "\n",
    "1.  A text area like this. Text areas can be edited.\n",
    "2.  A code area like the one below this list paragraph. Code areas can be edited and the code can be executed.\n",
    "3.  A result area, which contains the output (if there is any) from a code area.\n",
    "\n",
    "These areas are also called 'cells'. To execute this code cell, put your cursor over the cell, and click with your mouse. To execute the cell, press the \n",
    "\n"
   ]
  },
  {
   "cell_type": "markdown",
   "metadata": {},
   "source": [
    "2 + 4\n"
   ]
  },
  {
   "cell_type": "markdown",
   "metadata": {},
   "source": [
    "## weqweqe "
   ]
  },
  {
   "cell_type": "code",
   "execution_count": null,
   "metadata": {},
   "outputs": [],
   "source": []
  }
 ],
 "metadata": {
  "kernelspec": {
   "display_name": "Python 3 (ipykernel)",
   "language": "python",
   "name": "python3"
  },
  "language_info": {
   "codemirror_mode": {
    "name": "ipython",
    "version": 3
   },
   "file_extension": ".py",
   "mimetype": "text/x-python",
   "name": "python",
   "nbconvert_exporter": "python",
   "pygments_lexer": "ipython3",
   "version": "3.11.9"
  },
  "org": null
 },
 "nbformat": 4,
 "nbformat_minor": 4
}
