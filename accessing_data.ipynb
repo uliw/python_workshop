{
 "cells": [
  {
   "cell_type": "markdown",
   "metadata": {},
   "source": [
    "### Using pandas to read data from an Excel file\n",
    "\n"
   ]
  },
  {
   "cell_type": "markdown",
   "metadata": {},
   "source": [
    "Pandas is one of the most used Python libraries and provides powerful\n",
    "data analysis tools. It also provides an easy way to read data\n",
    "from files that contain comma-separated values (CSV), or from Excel\n",
    "spreadsheets, HDF files, etc., etc. Here we will use isotope data\n",
    "from a recent paper by one of my graduate students (Yao et al. 2018)\n",
    "\n",
    "In the following code snippet, we import the Pandas library with the\n",
    "alias `pd`. So all of the functions provided by pandas are available\n",
    "as `pd.function_name()`. We will explore how to use some of the Pandas\n",
    "provided functions below. Since pandas is a system library, you\n",
    "do not need a local copy in each working directory.\n",
    "\n",
    "To read the excel file  we need to know its name, and we need to\n",
    "know the name of the data sheet we want to read. If the read operation\n",
    "succeeds, the read data will be stored as a pandas data frame\n",
    "object. You can think of the Pandas data frame as a table with rows,\n",
    "columns, headers, etc. Pay attention to the way I use type hinting\n",
    "to indicate that `os_peak` is a variable that contains a data frame.\n",
    "\n"
   ]
  },
  {
   "cell_type": "code",
   "execution_count": 2,
   "metadata": {},
   "outputs": [],
   "source": [
    "import pandas as pd # inport pandas as pd\n",
    "\n",
    "# define the file and sheet name we want to read. Note that the file\n",
    "# has to be present in the local working directory! \n",
    "fn :str = \"Yao_2018.xlsx\" # file name\n",
    "sn :str = \"outside_peak\"  # sheet name\n",
    "\n",
    "# read the excel sheet using pandas read_excel function and add it to\n",
    "os_peak :pd.DataFrame = pd.read_excel(fn, sheet_name=sn) # the pandas\n",
    "                                                         # dataframe"
   ]
  },
  {
   "cell_type": "markdown",
   "metadata": {},
   "source": [
    "### Working with the pandas DataFrame object\n",
    "\n"
   ]
  },
  {
   "cell_type": "markdown",
   "metadata": {},
   "source": [
    "In most cases, your datasets will contain many lines. So listing all\n",
    "of this data is wasteful. Pandas provides the `head()` and `tail()`\n",
    "methods that will only show the first (or last) few lines of your\n",
    "dataset. Remember that methods are bound to an object, whereas functions expect one or more variables as an argument. \n",
    "\n",
    "Since line 9 above created a pandas data frame object with the name `os_peak`, the\n",
    "`head()` and `tail()` methods are now available through the dataframe\n",
    "object. If this does not make sense to you, please speak up!\n",
    "Otherwise, try both methods here:  Note that I here use the `display()` function, rather than the print function. `display()` will attempt to render pandas table-like data as a table. You milage may vary (YMMV), and you are free to use `print()` as well\n",
    "\n"
   ]
  },
  {
   "cell_type": "code",
   "execution_count": 1,
   "metadata": {},
   "outputs": [
    {
     "name": "stdout",
     "output_type": "stream",
     "text": [
      "|   | Core,section,interval(cm) | Depth [mbsf] | Age [Ma] |      d34S | d34S error |\n",
      "|---+---------------------------+--------------+----------+-----------+------------|\n",
      "| 0 | 1221C 11-3X 0-3           |       153.40 |  55.0011 | 17.516152 |   0.208391 |\n",
      "| 1 | 1221C 11-3X 5-8           |       153.45 |  55.0184 | 17.575390 |   0.208391 |\n",
      "| 2 | 1221C 11-3X 5-8           |       153.45 |  55.0184 | 17.680569 |   0.208391 |\n",
      "| 3 | 1221C 11-3X 10-13         |       153.50 |  55.0358 | 17.737390 |   0.208391 |\n",
      "| 4 | 1221C 11-3X 15-18         |       153.55 |  55.0531 | 17.886092 |   0.208391 |"
     ]
    }
   ],
   "source": [
    "display(os_peak.head())"
   ]
  },
  {
   "cell_type": "markdown",
   "metadata": {},
   "source": [
    "If you are really on the ball, you may have noticed that the first column is not present in the actual Excel file. \n",
    "The numbers in the first row are called the index. Think of them as\n",
    "line numbers. All pandas objects show them, but they are ignored when\n",
    "you do computations with the data. So we do have an index column, and\n",
    "then we have data columns.\n",
    "\n"
   ]
  },
  {
   "cell_type": "markdown",
   "metadata": {},
   "source": [
    "#### Selecting specific columns\n",
    "\n"
   ]
  },
  {
   "cell_type": "markdown",
   "metadata": {},
   "source": [
    "We can select specific columns by simply specifying the column name:\n",
    "\n"
   ]
  },
  {
   "cell_type": "code",
   "execution_count": 1,
   "metadata": {},
   "outputs": [],
   "source": [
    "display(os_peak[\"d34S\"])"
   ]
  },
  {
   "cell_type": "markdown",
   "metadata": {},
   "source": [
    "#### Selecting specific row & column combinations\n",
    "\n"
   ]
  },
  {
   "cell_type": "markdown",
   "metadata": {},
   "source": [
    "The above syntax is intuitive but not very flexible. Pandas provides the `iloc()` method (integer location), which allows us to access \n",
    "rows and columns by their index\n",
    "\n"
   ]
  },
  {
   "cell_type": "code",
   "execution_count": 1,
   "metadata": {},
   "outputs": [],
   "source": [
    "# iloc[row,col]\n",
    "display(os_peak.iloc[1,0]) # get the data in the 2nd row of the 1st col"
   ]
  },
  {
   "cell_type": "markdown",
   "metadata": {},
   "source": [
    "You remember the slicing syntax (if not, review the slicing module).\n",
    "so if you want to see the first two rows of the third column:\n",
    "\n"
   ]
  },
  {
   "cell_type": "code",
   "execution_count": 1,
   "metadata": {},
   "outputs": [],
   "source": [
    "display(os_peak.iloc[0:2,3])  # get the first 2 rows from the 4th column"
   ]
  },
  {
   "cell_type": "markdown",
   "metadata": {},
   "source": [
    "order to get all data from the third column, you can write\n",
    "\n"
   ]
  },
  {
   "cell_type": "code",
   "execution_count": 1,
   "metadata": {},
   "outputs": [],
   "source": [
    "display(os_peak.iloc[:,2]) # get all data from the third column"
   ]
  },
  {
   "cell_type": "markdown",
   "metadata": {},
   "source": [
    "Now modify the above statement that you print all data from the second\n",
    "row.\n",
    "\n"
   ]
  },
  {
   "cell_type": "markdown",
   "metadata": {},
   "source": [
    "#### Selecting rows/columns by label\n",
    "\n"
   ]
  },
  {
   "cell_type": "markdown",
   "metadata": {},
   "source": [
    "Pandas also supports the selection by label rather than index. This\n",
    "is done with the `.loc(row_label,column_label)` method. The first\n",
    "argument is the row label, and the second is the column label.\n",
    "However, the statement below requires  **some\n",
    "attention**. At first sight, it appears that we mix `iloc()` and\n",
    "`loc()` syntax here. However, this is not the case. Rather, this\n",
    "command treats the index column as a label. So if your first index\n",
    "number starts at 100, this code would yield no result since\n",
    "there is no label called \"2\". \n",
    "\n",
    "As a side note, the index does not even\n",
    "have to be numeric, it could well be a date-time value, or even a\n",
    "letter code. So `loc[2:4,'d34S']` does not use slicing notation,\n",
    "rather, it means as long as the label is equal to 2, 3 or 4. This\n",
    "difference is illustrated by the following code.\n",
    "\n"
   ]
  },
  {
   "cell_type": "code",
   "execution_count": 1,
   "metadata": {},
   "outputs": [],
   "source": [
    "display(os_peak.iloc[2:4,3]) # extract index values which are >= 2 and <4 \n",
    "display(os_peak.loc[2:4,'d34S']) # extract the d34S data for index\n",
    "                               # labels that equal 2, 3, or 4"
   ]
  },
  {
   "cell_type": "markdown",
   "metadata": {},
   "source": [
    "There is a third method to select a column by label\n",
    "\n"
   ]
  },
  {
   "cell_type": "code",
   "execution_count": 1,
   "metadata": {},
   "outputs": [],
   "source": [
    "import pandas as pd\n",
    "all_data pd.DataFrame = pd.read_excel(\"Yao_2018.xlsx\", sheet_name=\"combined_data\") # the panda\n",
    "delta = all_data.d34S # this will work\n",
    "# age = all.data.Age [Ma] # this will not work"
   ]
  },
  {
   "cell_type": "markdown",
   "metadata": {},
   "source": [
    "This will only work if your column headers are single words only.\n",
    "I thus recommend sticking to the `iloc()` method.\n",
    "\n"
   ]
  },
  {
   "cell_type": "markdown",
   "metadata": {},
   "source": [
    "#### Include only specific rows\n",
    "\n"
   ]
  },
  {
   "cell_type": "markdown",
   "metadata": {},
   "source": [
    "Since the `loc()` will match against the value of a given cell, we can use this to select only specific rows.\n",
    "The third worksheet in the Excel file contains an additional column called 'Location'. Each row in this column contains the string \"in\" or \"out\" (download the excel file to check this out).\n",
    "In this example, we can use this column to only select data where the Location equals the string \"in\"\n",
    "\n"
   ]
  },
  {
   "cell_type": "code",
   "execution_count": 1,
   "metadata": {},
   "outputs": [],
   "source": [
    "import pandas as pd\n",
    "all_data: pd.DataFrame = pd.read_excel(\n",
    "    \"Yao_2018.xlsx\", sheet_name=\"combined_data\"\n",
    ")  # the panda\n",
    "y: pd.Series = all_data.loc[all_data[\"Location\"] == \"in\", \"d34S\"]\n",
    "display(y)"
   ]
  },
  {
   "cell_type": "markdown",
   "metadata": {},
   "source": [
    "#### Take me home\n",
    "\n"
   ]
  },
  {
   "cell_type": "markdown",
   "metadata": {},
   "source": [
    "While pandas has many ways to select data from a dataframe object, it is best to stick to the `iloc()` method unless you have a very special use case. `iloc()` is computationally efficient, and easy to understand.\n",
    "\n"
   ]
  },
  {
   "cell_type": "markdown",
   "metadata": {},
   "source": [
    "#### Getting statistical coefficients\n",
    "\n"
   ]
  },
  {
   "cell_type": "markdown",
   "metadata": {},
   "source": [
    "Pandas supports a large number of statistical methods. As an example,\n",
    "use the `describe()` method which will give you a quick overview of\n",
    "your data. \n",
    "\n"
   ]
  },
  {
   "cell_type": "code",
   "execution_count": 1,
   "metadata": {},
   "outputs": [],
   "source": [
    "display(os_peak.describe())"
   ]
  },
  {
   "cell_type": "markdown",
   "metadata": {},
   "source": [
    "#### What else can you do?\n",
    "\n"
   ]
  },
  {
   "cell_type": "markdown",
   "metadata": {},
   "source": [
    "The short answer is lots! The data frame can act as a database, and you\n",
    "can  add/remove,\n",
    "values/columns/rows, you can clean your data (e.g., missing numbers,\n",
    "bogus data), you can do boolean algebra, etc., etc. If these cases\n",
    "arise, please have a look at the excellent online documentation and\n",
    "tutorials. A good start is \n",
    "\n",
    "[https://towardsdatascience.com/30-examples-to-master-pandas-f8a2da751fa4](https://towardsdatascience.com/30-examples-to-master-pandas-f8a2da751fa4)\n",
    "\n"
   ]
  }
 ],
 "metadata": {
  "kernelspec": {
   "display_name": "Python 3 (ipykernel)",
   "language": "python",
   "name": "python3"
  },
  "language_info": {
   "codemirror_mode": {
    "name": "ipython",
    "version": 3
   },
   "file_extension": ".py",
   "mimetype": "text/x-python",
   "name": "python",
   "nbconvert_exporter": "python",
   "pygments_lexer": "ipython3",
   "version": "3.11.9"
  },
  "org": null
 },
 "nbformat": 4,
 "nbformat_minor": 4
}
